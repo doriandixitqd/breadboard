{
  "nbformat": 4,
  "nbformat_minor": 0,
  "metadata": {
    "colab": {
      "provenance": []
    },
    "kernelspec": {
      "name": "python3",
      "display_name": "Python 3"
    },
    "language_info": {
      "name": "python"
    }
  },
  "cells": [
    {
      "cell_type": "code",
      "execution_count": null,
      "metadata": {
        "id": "gVRh7yPfTwq8"
      },
      "outputs": [],
      "source": [
        "!pip install seqio\n",
        "import seqio\n",
        "import tensorflow as tf\n"
      ]
    },
    {
      "cell_type": "code",
      "source": [
        "vocab = seqio.SentencePieceVocabulary('gs://t5-data/vocabs/cc_all.32000.100extra/sentencepiece.model')"
      ],
      "metadata": {
        "id": "hwtDHDXOeA6N"
      },
      "execution_count": null,
      "outputs": []
    },
    {
      "cell_type": "code",
      "source": [
        "text = 'Wich products are affected by  CVE-2023-0001?'"
      ],
      "metadata": {
        "id": "7ON-VZwUT23x"
      },
      "execution_count": null,
      "outputs": []
    },
    {
      "cell_type": "code",
      "source": [
        "token_ids = vocab.encode_tf(tf.constant(text)).numpy().tolist()"
      ],
      "metadata": {
        "id": "MXRleF52U0ft"
      },
      "execution_count": null,
      "outputs": []
    },
    {
      "cell_type": "code",
      "source": [
        "token_ids"
      ],
      "metadata": {
        "id": "T2XeGLL-WQSV",
        "outputId": "dae6c41d-a842-478f-a3da-720fa155c278",
        "colab": {
          "base_uri": "https://localhost:8080/"
        }
      },
      "execution_count": null,
      "outputs": [
        {
          "output_type": "execute_result",
          "data": {
            "text/plain": [
              "[549, 362, 494, 33, 4161, 57, 205, 8575, 18, 19818, 22773, 17465, 58]"
            ]
          },
          "metadata": {},
          "execution_count": 7
        }
      ]
    },
    {
      "cell_type": "code",
      "source": [
        "tokens = [vocab.decode([token_id]) for token_id in token_ids]"
      ],
      "metadata": {
        "id": "vyPM4G5-VDXT"
      },
      "execution_count": null,
      "outputs": []
    },
    {
      "cell_type": "code",
      "source": [
        "tokens"
      ],
      "metadata": {
        "id": "-0VzD4TWVtZE",
        "outputId": "ac90ef15-c0a8-40ec-bb59-792ea238def1",
        "colab": {
          "base_uri": "https://localhost:8080/"
        }
      },
      "execution_count": null,
      "outputs": [
        {
          "output_type": "execute_result",
          "data": {
            "text/plain": [
              "['W',\n",
              " 'ich',\n",
              " 'products',\n",
              " 'are',\n",
              " 'affected',\n",
              " 'by',\n",
              " 'C',\n",
              " 'VE',\n",
              " '-',\n",
              " '202',\n",
              " '3-0',\n",
              " '001',\n",
              " '?']"
            ]
          },
          "metadata": {},
          "execution_count": 9
        }
      ]
    },
    {
      "cell_type": "code",
      "source": [],
      "metadata": {
        "id": "lev6aDp2eIQY"
      },
      "execution_count": null,
      "outputs": []
    }
  ]
}